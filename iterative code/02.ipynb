{
 "cells": [
  {
   "cell_type": "code",
   "execution_count": 1,
   "id": "d4a41cc8-bd7b-4d0f-9a5c-0b4458b43c27",
   "metadata": {},
   "outputs": [],
   "source": [
    "# import libraries\n",
    "import pandas as pd\n",
    "import numpy as np\n",
    "import os\n",
    "import matplotlib.pyplot as plt\n",
    "import seaborn as sns\n",
    "\n",
    "from sklearn.linear_model import LinearRegression\n",
    "from sklearn.model_selection import train_test_split, cross_val_score\n",
    "from sklearn import metrics"
   ]
  },
  {
   "cell_type": "code",
   "execution_count": 3,
   "id": "d689a920-55dc-4980-9760-a62c9aa61ae7",
   "metadata": {},
   "outputs": [],
   "source": [
    "# read in csv\n",
    "df = pd.read_csv('../datasets/train.csv')\n",
    "df_test = pd.read_csv('../datasets/test.csv')\n",
    "pd.options.display.max_columns = 999\n",
    "df = df.reindex(sorted(df.columns), axis=1)\n",
    "df_test = df_test.reindex(sorted(df_test.columns), axis=1)\n",
    "\n",
    "#df.head()"
   ]
  },
  {
   "cell_type": "code",
   "execution_count": 4,
   "id": "baefdce1-9348-44a2-8746-4b5abadb5a47",
   "metadata": {
    "tags": []
   },
   "outputs": [
    {
     "data": {
      "text/plain": [
       "Alley             object\n",
       "Bldg Type         object\n",
       "Bsmt Cond         object\n",
       "Bsmt Exposure     object\n",
       "Bsmt Qual         object\n",
       "BsmtFin Type 1    object\n",
       "BsmtFin Type 2    object\n",
       "Central Air       object\n",
       "Condition 1       object\n",
       "Condition 2       object\n",
       "Electrical        object\n",
       "Exter Cond        object\n",
       "Exter Qual        object\n",
       "Exterior 1st      object\n",
       "Exterior 2nd      object\n",
       "Fence             object\n",
       "Fireplace Qu      object\n",
       "Foundation        object\n",
       "Functional        object\n",
       "Garage Cond       object\n",
       "Garage Finish     object\n",
       "Garage Qual       object\n",
       "Garage Type       object\n",
       "Heating           object\n",
       "Heating QC        object\n",
       "House Style       object\n",
       "Kitchen Qual      object\n",
       "Land Contour      object\n",
       "Land Slope        object\n",
       "Lot Config        object\n",
       "Lot Shape         object\n",
       "MS Zoning         object\n",
       "Mas Vnr Type      object\n",
       "Misc Feature      object\n",
       "Neighborhood      object\n",
       "Paved Drive       object\n",
       "Pool QC           object\n",
       "Roof Matl         object\n",
       "Roof Style        object\n",
       "Sale Type         object\n",
       "Street            object\n",
       "Utilities         object\n",
       "dtype: object"
      ]
     },
     "execution_count": 4,
     "metadata": {},
     "output_type": "execute_result"
    }
   ],
   "source": [
    "#check for objects only\n",
    "df.select_dtypes(include=['object']).dtypes"
   ]
  },
  {
   "cell_type": "code",
   "execution_count": 5,
   "id": "26b5251d-7aad-4c0d-a9e9-43644855527c",
   "metadata": {
    "tags": []
   },
   "outputs": [
    {
     "data": {
      "text/plain": [
       "0"
      ]
     },
     "execution_count": 5,
     "metadata": {},
     "output_type": "execute_result"
    }
   ],
   "source": [
    "#check for null\n",
    "df['Kitchen Qual'].isnull().sum()"
   ]
  },
  {
   "cell_type": "code",
   "execution_count": 6,
   "id": "34405bdb-edbf-4c80-89d0-bf5d3e00e1ae",
   "metadata": {},
   "outputs": [
    {
     "data": {
      "text/plain": [
       "TA    1047\n",
       "Gd     806\n",
       "Ex     151\n",
       "Fa      47\n",
       "Name: Kitchen Qual, dtype: int64"
      ]
     },
     "execution_count": 6,
     "metadata": {},
     "output_type": "execute_result"
    }
   ],
   "source": [
    "df['Kitchen Qual'].value_counts()"
   ]
  },
  {
   "cell_type": "code",
   "execution_count": 7,
   "id": "5792ee98-a8d7-4aaf-ab98-55b90306cc8f",
   "metadata": {},
   "outputs": [],
   "source": [
    "# If column is Nominal, do this:\n",
    "# pd.get_dummies()\n",
    "\n",
    "# If column is Ordinal, do this:\n",
    "df['Kitchen Qual Num'] = df['Kitchen Qual'].map({'Ex': 5, 'Gd':4, 'TA': 3, 'Fa':2, 'Po':1})"
   ]
  },
  {
   "cell_type": "code",
   "execution_count": 8,
   "id": "e4bba209-a2bd-4dfb-bbce-8788b4bc5b12",
   "metadata": {},
   "outputs": [],
   "source": [
    "df['year_remod_or_built'] = df['Year Remod/Add'] * df['Year Built']"
   ]
  },
  {
   "cell_type": "code",
   "execution_count": 9,
   "id": "6921a7b0-6842-43e9-ad5c-7694a70e47ce",
   "metadata": {},
   "outputs": [],
   "source": [
    "#create variable for Neighborhood with dummies\n",
    "df = pd.get_dummies(df, columns = ['Neighborhood'], drop_first=True)\n",
    "neigh_dum = [col for col in df.columns if 'Neighborhood' in col]"
   ]
  },
  {
   "cell_type": "code",
   "execution_count": 10,
   "id": "12dd7a4f-ca84-43e8-89c0-00ee815743af",
   "metadata": {},
   "outputs": [],
   "source": [
    "#found two # replicate all above for the test set\n",
    "df_test['Kitchen Qual Num'] = df_test['Kitchen Qual'].map({'Ex': 5, 'Gd':4, 'TA': 3, 'Fa':2, 'Po':1, 'NA':0})\n",
    "df_test['year_remod_or_built'] = df_test['Year Remod/Add'] * df_test['Year Built']\n",
    "df_test = pd.get_dummies(df_test, columns=['Neighborhood'], drop_first=True)\n",
    "\n",
    "neigh_dum_test = [col for col in df_test.columns if 'Neighborhood' in col]\n",
    "diff_neigh = list(set(neigh_dum) - set(neigh_dum_test))\n",
    "df_test[diff_neigh[0]] = 0\n",
    "df_test[diff_neigh[1]] = 0"
   ]
  },
  {
   "cell_type": "code",
   "execution_count": 11,
   "id": "1822dba6-c0cd-47b6-a136-b716349f6f5f",
   "metadata": {},
   "outputs": [
    {
     "data": {
      "text/plain": [
       "0.7434945340550307"
      ]
     },
     "execution_count": 11,
     "metadata": {},
     "output_type": "execute_result"
    }
   ],
   "source": [
    "features = ['Kitchen Qual Num', 'year_remod_or_built', 'Overall Qual']\n",
    "features.extend(neigh_dum)\n",
    "X = df[features]\n",
    "y = df['SalePrice']\n",
    "\n",
    "#instantiate\n",
    "lr = LinearRegression()\n",
    "\n",
    "cross_val_score(lr,X,y).mean()"
   ]
  },
  {
   "cell_type": "code",
   "execution_count": 12,
   "id": "f7f2c958-fdd5-4594-9cae-0d50cc4b761a",
   "metadata": {},
   "outputs": [
    {
     "data": {
      "text/plain": [
       "LinearRegression()"
      ]
     },
     "execution_count": 12,
     "metadata": {},
     "output_type": "execute_result"
    }
   ],
   "source": [
    "# train test split\n",
    "X_train, X_val, y_train, y_val = train_test_split(X,y,random_state=33)\n",
    "\n",
    "# fit the model\n",
    "lr.fit(X_train,y_train)"
   ]
  },
  {
   "cell_type": "code",
   "execution_count": 13,
   "id": "8e3f221b-a43e-4d87-8117-317a64d93776",
   "metadata": {},
   "outputs": [
    {
     "data": {
      "text/plain": [
       "0.7695214976557637"
      ]
     },
     "execution_count": 13,
     "metadata": {},
     "output_type": "execute_result"
    }
   ],
   "source": [
    "#train score\n",
    "lr.score(X_train, y_train)"
   ]
  },
  {
   "cell_type": "code",
   "execution_count": 14,
   "id": "ee687c27-dfea-427e-b341-6b34dc0c196d",
   "metadata": {},
   "outputs": [
    {
     "data": {
      "text/plain": [
       "0.6918917412927973"
      ]
     },
     "execution_count": 14,
     "metadata": {},
     "output_type": "execute_result"
    }
   ],
   "source": [
    "#test score\n",
    "lr.score(X_val, y_val)"
   ]
  },
  {
   "cell_type": "code",
   "execution_count": 15,
   "id": "4718a8ac-ac18-426b-9b91-bcd4a0e9e504",
   "metadata": {},
   "outputs": [
    {
     "data": {
      "text/plain": [
       "0.7563740160750366"
      ]
     },
     "execution_count": 15,
     "metadata": {},
     "output_type": "execute_result"
    }
   ],
   "source": [
    "#this was a test, if doing in earnest, would have stopped above\n",
    "cross_val_score(lr,X_train,y_train).mean()"
   ]
  },
  {
   "cell_type": "markdown",
   "id": "bfba86a7-ef02-4951-a37e-637c21732560",
   "metadata": {},
   "source": [
    " ASSESS:\n",
    " - train score = 76.9\n",
    " - test score = 69.2\n",
    " - cross_val score = 75.6\n",
    " looks like some variance, lowish bias "
   ]
  },
  {
   "cell_type": "code",
   "execution_count": 16,
   "id": "c0504d77-09ec-4c38-b816-636041f45e1a",
   "metadata": {},
   "outputs": [],
   "source": [
    "# make predictions\n",
    "pred = lr.predict(X)\n",
    "#pred"
   ]
  },
  {
   "cell_type": "code",
   "execution_count": 17,
   "id": "4b950199-97ae-4ed6-bcf1-0b075eae5028",
   "metadata": {},
   "outputs": [],
   "source": [
    "#residuals \n",
    "residuals = y-pred\n",
    "#residuals"
   ]
  },
  {
   "cell_type": "code",
   "execution_count": 18,
   "id": "f226e061-20c8-4188-a8d4-70e3f7b3d203",
   "metadata": {},
   "outputs": [
    {
     "data": {
      "image/png": "[encoded data removed]",
      "text/plain": [
       "<Figure size 432x288 with 1 Axes>"
      ]
     },
     "metadata": {
      "needs_background": "light"
     },
     "output_type": "display_data"
    }
   ],
   "source": [
    "plt.axhline(y=0, color='r')\n",
    "sns.scatterplot(x=pred, y=residuals)\n",
    "('Residual Plot to Show error - Epsilon')\n",
    "plt.xlabel('predictions')\n",
    "plt.ylabel('residuals');"
   ]
  },
  {
   "cell_type": "code",
   "execution_count": 19,
   "id": "ba4fc8a2-6d42-4782-b6dc-9b0476b28f97",
   "metadata": {},
   "outputs": [
    {
     "data": {
      "text/plain": [
       "-803.5679287082536"
      ]
     },
     "execution_count": 19,
     "metadata": {},
     "output_type": "execute_result"
    },
    {
     "data": {
      "image/png": "[encoded data removed]",
      "text/plain": [
       "<Figure size 432x288 with 1 Axes>"
      ]
     },
     "metadata": {
      "needs_background": "light"
     },
     "output_type": "display_data"
    }
   ],
   "source": [
    "residuals.hist();\n",
    "residuals.mean()"
   ]
  },
  {
   "cell_type": "code",
   "execution_count": 20,
   "id": "a1ad9ea7-3ea7-4b02-9c50-262cb741534d",
   "metadata": {},
   "outputs": [],
   "source": [
    "#residuals.sort_values()"
   ]
  },
  {
   "cell_type": "code",
   "execution_count": 21,
   "id": "cf54c261-6f3a-48f8-ba17-1dda19642b32",
   "metadata": {},
   "outputs": [],
   "source": [
    "#df_test.shape"
   ]
  },
  {
   "cell_type": "code",
   "execution_count": 22,
   "id": "5041bbc2-6f7f-4d26-9e3b-da80571275bd",
   "metadata": {},
   "outputs": [],
   "source": [
    "#df_test[features]"
   ]
  },
  {
   "cell_type": "code",
   "execution_count": 24,
   "id": "beac23c0-ec9c-42d5-94a0-b845cca98409",
   "metadata": {},
   "outputs": [
    {
     "data": {
      "text/html": [
       "<div>\n",
       "<style scoped>\n",
       "    .dataframe tbody tr th:only-of-type {\n",
       "        vertical-align: middle;\n",
       "    }\n",
       "\n",
       "    .dataframe tbody tr th {\n",
       "        vertical-align: top;\n",
       "    }\n",
       "\n",
       "    .dataframe thead th {\n",
       "        text-align: right;\n",
       "    }\n",
       "</style>\n",
       "<table border=\"1\" class=\"dataframe\">\n",
       "  <thead>\n",
       "    <tr style=\"text-align: right;\">\n",
       "      <th></th>\n",
       "      <th>SalePrice</th>\n",
       "    </tr>\n",
       "    <tr>\n",
       "      <th>Id</th>\n",
       "      <th></th>\n",
       "    </tr>\n",
       "  </thead>\n",
       "  <tbody>\n",
       "    <tr>\n",
       "      <th>2658</th>\n",
       "      <td>112296.889137</td>\n",
       "    </tr>\n",
       "    <tr>\n",
       "      <th>2718</th>\n",
       "      <td>133787.829449</td>\n",
       "    </tr>\n",
       "    <tr>\n",
       "      <th>2414</th>\n",
       "      <td>217571.162374</td>\n",
       "    </tr>\n",
       "    <tr>\n",
       "      <th>1989</th>\n",
       "      <td>118157.053781</td>\n",
       "    </tr>\n",
       "    <tr>\n",
       "      <th>625</th>\n",
       "      <td>159626.829191</td>\n",
       "    </tr>\n",
       "  </tbody>\n",
       "</table>\n",
       "</div>"
      ],
      "text/plain": [
       "          SalePrice\n",
       "Id                 \n",
       "2658  112296.889137\n",
       "2718  133787.829449\n",
       "2414  217571.162374\n",
       "1989  118157.053781\n",
       "625   159626.829191"
      ]
     },
     "execution_count": 24,
     "metadata": {},
     "output_type": "execute_result"
    }
   ],
   "source": [
    "#make preds on test\n",
    "test_preds = lr.predict(df_test[features])\n",
    "\n",
    "#create target column 'SalePrice' in df_test\n",
    "df_test['SalePrice'] = test_preds\n",
    "\n",
    "#create df for submission with only Id and SalePrice\n",
    "submission = df_test[['Id', 'SalePrice']]\n",
    "\n",
    "submission.set_index('Id', inplace=True)\n",
    "submission.head()\n",
    "\n",
    "#submission.to_csv('../datasets/Kaggle Submissions/Kitchen Qual Num,year_remod_or_built,Overall Qual.csv')"
   ]
  },
  {
   "cell_type": "markdown",
   "id": "5c3b0d55-1c96-44e8-acc0-6547a56dec28",
   "metadata": {},
   "source": [
    "# GET RMSE #"
   ]
  },
  {
   "cell_type": "code",
   "execution_count": 25,
   "id": "bd741656-7e27-49af-80d7-befb2edf0cb3",
   "metadata": {},
   "outputs": [
    {
     "data": {
      "text/plain": [
       "39516.972593825456"
      ]
     },
     "execution_count": 25,
     "metadata": {},
     "output_type": "execute_result"
    }
   ],
   "source": [
    "np.sqrt(metrics.mean_squared_error(y, pred))"
   ]
  }
 ],
 "metadata": {
  "kernelspec": {
   "display_name": "Python 3 (ipykernel)",
   "language": "python",
   "name": "python3"
  },
  "language_info": {
   "codemirror_mode": {
    "name": "ipython",
    "version": 3
   },
   "file_extension": ".py",
   "mimetype": "text/x-python",
   "name": "python",
   "nbconvert_exporter": "python",
   "pygments_lexer": "ipython3",
   "version": "3.9.7"
  }
 },
 "nbformat": 4,
 "nbformat_minor": 5
}
