{
 "cells": [
  {
   "cell_type": "markdown",
   "id": "3f97fe9a-b335-40cd-b3f0-392dbd061c05",
   "metadata": {},
   "source": [
    "## Ridge Regression ##"
   ]
  },
  {
   "cell_type": "code",
   "execution_count": 3,
   "id": "a76795c9-9410-4d9e-bc63-405545320158",
   "metadata": {},
   "outputs": [],
   "source": [
    "import pandas as pd\n",
    "import numpy as np\n",
    "import matplotlib.pyplot as plt\n",
    "import seaborn as sns\n",
    "from sklearn.linear_model import LinearRegression, Lasso, LassoCV, Ridge, RidgeCV\n",
    "from sklearn.model_selection import train_test_split, cross_val_score\n",
    "from sklearn.preprocessing import StandardScaler, PolynomialFeatures\n",
    "from sklearn import metrics"
   ]
  },
  {
   "cell_type": "code",
   "execution_count": 41,
   "id": "884db0c8-f99f-445f-95b4-336bfd1b7618",
   "metadata": {},
   "outputs": [],
   "source": [
    "df = pd.read_csv('../datasets/Working Data/numericals.csv')\n",
    "df.drop(columns=['Unnamed: 0'], inplace=True)\n",
    "pd.options.display.max_columns = 999\n",
    "#sort columns alpha\n",
    "df = df.reindex(sorted(df.columns), axis=1)\n",
    "#drop two outliers \n",
    "df.drop([960, 1885], inplace=True)"
   ]
  },
  {
   "cell_type": "code",
   "execution_count": 42,
   "id": "8e70564e-f758-4476-8514-8ba3dfc5415b",
   "metadata": {},
   "outputs": [],
   "source": [
    "#set X, y\n",
    "#selected is dataframe, remove 'SalePrice'\n",
    "X = df.drop(columns='SalePrice')\n",
    "features = X.columns\n",
    "y = df['SalePrice']\n",
    "#instantiate\n",
    "lr = LinearRegression()\n",
    "\n",
    "# Create train/test splits.\n",
    "X_train, X_test, y_train, y_test = train_test_split(X, y, random_state=33)\n",
    "\n",
    "# Scale our data.\n",
    "# Relabeling scaled data as \"Z\" is common.\n",
    "sc = StandardScaler()\n",
    "Z_train = sc.fit_transform(X_train)\n",
    "Z_test = sc.transform(X_test)"
   ]
  },
  {
   "cell_type": "code",
   "execution_count": 43,
   "id": "8f94f073-11be-4fd4-8ee8-42f61823a978",
   "metadata": {},
   "outputs": [
    {
     "data": {
      "text/plain": [
       "(0.8797839164122593, 0.862575411494505)"
      ]
     },
     "execution_count": 43,
     "metadata": {},
     "output_type": "execute_result"
    }
   ],
   "source": [
    "# Instantiate.\n",
    "ridge = Ridge(alpha=10) #alpha is equalizing scores, ~10 is sweet spot\n",
    "# Fit.\n",
    "ridge.fit(Z_train, y_train)\n",
    "# Evaluate model using R2.\n",
    "ridge.score(Z_train, y_train), ridge.score(Z_test, y_test)"
   ]
  },
  {
   "cell_type": "code",
   "execution_count": 44,
   "id": "2c85eb61-8168-4ef2-bb8c-374614d7555b",
   "metadata": {},
   "outputs": [],
   "source": [
    "# Set up a list of ridge alphas to check.\n",
    "# np.logspace generates 100 values equally between 0 and 5,\n",
    "# then converts them to alphas between 10^0 and 10^5.\n",
    "r_alphas = np.logspace(0, 5, 1000)\n",
    "\n",
    "# Cross-validate over our list of ridge alphas.\n",
    "ridge_cv = RidgeCV(alphas=r_alphas, scoring='r2', cv=5)\n",
    "\n",
    "# Fit model using best ridge alpha!\n",
    "ridge_cv = ridge.fit(Z_train, y_train)"
   ]
  },
  {
   "cell_type": "code",
   "execution_count": 45,
   "id": "252a69c3-ed11-46ab-a626-ec2d894ea15d",
   "metadata": {},
   "outputs": [
    {
     "data": {
      "text/plain": [
       "10"
      ]
     },
     "execution_count": 45,
     "metadata": {},
     "output_type": "execute_result"
    }
   ],
   "source": [
    "# Here is the optimal value of alpha\n",
    "ridge_cv.alpha"
   ]
  }
 ],
 "metadata": {
  "kernelspec": {
   "display_name": "Python 3 (ipykernel)",
   "language": "python",
   "name": "python3"
  },
  "language_info": {
   "codemirror_mode": {
    "name": "ipython",
    "version": 3
   },
   "file_extension": ".py",
   "mimetype": "text/x-python",
   "name": "python",
   "nbconvert_exporter": "python",
   "pygments_lexer": "ipython3",
   "version": "3.9.7"
  }
 },
 "nbformat": 4,
 "nbformat_minor": 5
}
