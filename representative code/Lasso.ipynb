{
 "cells": [
  {
   "cell_type": "markdown",
   "id": "59a072bf-a680-4e5e-9722-fd778c7f60ba",
   "metadata": {},
   "source": [
    "# LASSO #"
   ]
  },
  {
   "cell_type": "code",
   "execution_count": 3,
   "id": "a76795c9-9410-4d9e-bc63-405545320158",
   "metadata": {},
   "outputs": [],
   "source": [
    "import pandas as pd\n",
    "import numpy as np\n",
    "import matplotlib.pyplot as plt\n",
    "import seaborn as sns\n",
    "from sklearn.linear_model import LinearRegression, Lasso, LassoCV\n",
    "from sklearn.model_selection import train_test_split, cross_val_score\n",
    "from sklearn.preprocessing import StandardScaler, PolynomialFeatures\n",
    "from sklearn import metrics\n"
   ]
  },
  {
   "cell_type": "code",
   "execution_count": 4,
   "id": "884db0c8-f99f-445f-95b4-336bfd1b7618",
   "metadata": {},
   "outputs": [],
   "source": [
    "df = pd.read_csv('../datasets/Working Data/numericals.csv')\n",
    "df.drop(columns=['Unnamed: 0'], inplace=True)\n",
    "pd.options.display.max_columns = 999\n",
    "#sort columns alpha\n",
    "df = df.reindex(sorted(df.columns), axis=1)\n",
    "#drop two outliers \n",
    "df.drop([960, 1885], inplace=True)"
   ]
  },
  {
   "cell_type": "code",
   "execution_count": 5,
   "id": "73e18bfc-0c6d-4f7a-8e13-90ec05311eb6",
   "metadata": {},
   "outputs": [],
   "source": [
    "#set X, y\n",
    "#selected is dataframe, remove 'SalePrice'\n",
    "X = df.drop(columns='SalePrice')\n",
    "features = X.columns\n",
    "y = df['SalePrice']\n",
    "#instantiate\n",
    "lr = LinearRegression()"
   ]
  },
  {
   "cell_type": "code",
   "execution_count": 6,
   "id": "4280f7ff-8996-4ee7-8e23-b984f5920633",
   "metadata": {},
   "outputs": [],
   "source": [
    "# Create train/test splits.\n",
    "X_train, X_test, y_train, y_test = train_test_split(X, y, random_state=33)\n",
    "\n",
    "# Scale our data.\n",
    "# Relabeling scaled data as \"Z\" is common.\n",
    "sc = StandardScaler()\n",
    "Z_train = sc.fit_transform(X_train)\n",
    "Z_test = sc.transform(X_test)"
   ]
  },
  {
   "cell_type": "code",
   "execution_count": 7,
   "id": "2c6561f7-d22e-46b3-8b4c-d5ab5e520edc",
   "metadata": {},
   "outputs": [
    {
     "name": "stderr",
     "output_type": "stream",
     "text": [
      "/opt/anaconda3/lib/python3.9/site-packages/sklearn/linear_model/_coordinate_descent.py:526: ConvergenceWarning: Objective did not converge. You might want to increase the number of iterations. Duality gap: 21403518669.548218, tolerance: 753821920.647973\n",
      "  model = cd_fast.enet_coordinate_descent_gram(\n"
     ]
    },
    {
     "data": {
      "text/plain": [
       "1.0"
      ]
     },
     "execution_count": 7,
     "metadata": {},
     "output_type": "execute_result"
    }
   ],
   "source": [
    "\n",
    "# Set up a list of Lasso alphas to check.\n",
    "l_alphas = np.logspace(-3, 0, 100)\n",
    "\n",
    "# Cross-validate over our list of Lasso alphas.\n",
    "lasso_cv = LassoCV(alphas=l_alphas, cv=5, max_iter=50000)\n",
    "\n",
    "# Fit model using best ridge alpha!\n",
    "lasso_cv.fit(Z_train, y_train);\n",
    "\n",
    "# Here is the optimal value of alpha\n",
    "lasso_cv.alpha_"
   ]
  },
  {
   "cell_type": "code",
   "execution_count": 8,
   "id": "814191de-3e79-4fa4-88fb-19edf2fa299e",
   "metadata": {},
   "outputs": [
    {
     "name": "stdout",
     "output_type": "stream",
     "text": [
      "0.8798474093450198\n",
      "0.8626400328326245\n"
     ]
    }
   ],
   "source": [
    "print(lasso_cv.score(Z_train, y_train))\n",
    "print(lasso_cv.score(Z_test, y_test))"
   ]
  },
  {
   "cell_type": "code",
   "execution_count": null,
   "id": "b5e21920-b608-4377-a8f7-2bf62a41f6ce",
   "metadata": {},
   "outputs": [],
   "source": []
  }
 ],
 "metadata": {
  "kernelspec": {
   "display_name": "Python 3 (ipykernel)",
   "language": "python",
   "name": "python3"
  },
  "language_info": {
   "codemirror_mode": {
    "name": "ipython",
    "version": 3
   },
   "file_extension": ".py",
   "mimetype": "text/x-python",
   "name": "python",
   "nbconvert_exporter": "python",
   "pygments_lexer": "ipython3",
   "version": "3.9.7"
  }
 },
 "nbformat": 4,
 "nbformat_minor": 5
}
